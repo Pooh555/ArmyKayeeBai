{
 "cells": [
  {
   "cell_type": "code",
   "execution_count": 2,
   "id": "2cde5d26",
   "metadata": {},
   "outputs": [],
   "source": [
    "from dijkstra import dijkstra_shortest_path_graphml"
   ]
  },
  {
   "cell_type": "markdown",
   "id": "3a7fa91b",
   "metadata": {},
   "source": [
    "# Test Dijkstra's Algorithm"
   ]
  },
  {
   "cell_type": "code",
   "execution_count": 4,
   "id": "2e007ca6",
   "metadata": {},
   "outputs": [
    {
     "name": "stdout",
     "output_type": "stream",
     "text": [
      "Path: ['27,27', '26,27', '25,26', '24,26', '23,26', '22,26', '21,26', '20,26', '19,25', '19,24', '19,23', '19,22', '19,21', '19,20', '18,19', '19,18', '19,17', '19,16', '20,15', '20,14', '21,13', '22,12', '22,11', '22,10', '21,9', '21,8', '21,7', '22,6', '22,5', '23,4', '24,3', '25,2']\n",
      "Total cost: 75.82828199999999\n"
     ]
    }
   ],
   "source": [
    "path, cost = dijkstra_shortest_path_graphml(\n",
    "    graphml_path=\"../mapGraphs/graphml/HIMCM_graph_FINAL.graphml\",\n",
    "    src_label=\"27,27\",\n",
    "    dst_label=\"25,2\",\n",
    "    directed=True  # or False if you want to treat edges as undirected\n",
    ")\n",
    "print(\"Path:\", path)\n",
    "print(\"Total cost:\", cost)"
   ]
  },
  {
   "cell_type": "markdown",
   "id": "731af3ed",
   "metadata": {},
   "source": [
    "# Test traditional Baysian search"
   ]
  },
  {
   "cell_type": "code",
   "execution_count": null,
   "id": "bcedb6b8",
   "metadata": {},
   "outputs": [],
   "source": []
  }
 ],
 "metadata": {
  "kernelspec": {
   "display_name": ".venv",
   "language": "python",
   "name": "python3"
  },
  "language_info": {
   "codemirror_mode": {
    "name": "ipython",
    "version": 3
   },
   "file_extension": ".py",
   "mimetype": "text/x-python",
   "name": "python",
   "nbconvert_exporter": "python",
   "pygments_lexer": "ipython3",
   "version": "3.12.3"
  }
 },
 "nbformat": 4,
 "nbformat_minor": 5
}
