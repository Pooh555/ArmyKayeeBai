{
 "cells": [
  {
   "cell_type": "markdown",
   "id": "66e53980",
   "metadata": {},
   "source": [
    "# Bayesian Search Algorithm"
   ]
  },
  {
   "cell_type": "markdown",
   "id": "5986933a",
   "metadata": {},
   "source": [
    "Use bayesian search based on the paper: \"Bayesian-Based Search Decision Framework and Search Strategy Analysis in Probabilistic Search\"\n",
    "\n",
    "link: https://onlinelibrary.wiley.com/doi/full/10.1155/2020/8865381"
   ]
  },
  {
   "cell_type": "code",
   "execution_count": null,
   "id": "2bd3e233",
   "metadata": {},
   "outputs": [],
   "source": [
    "# Import necessary libraries\n",
    "import networkx as nx"
   ]
  },
  {
   "cell_type": "code",
   "execution_count": null,
   "id": "f7df979f",
   "metadata": {},
   "outputs": [],
   "source": [
    "map_graph = nx.read_graphml('your_graph.graphml')"
   ]
  }
 ],
 "metadata": {
  "kernelspec": {
   "display_name": "Python 3",
   "language": "python",
   "name": "python3"
  },
  "language_info": {
   "name": "python",
   "version": "3.13.7"
  }
 },
 "nbformat": 4,
 "nbformat_minor": 5
}
